{
 "cells": [
  {
   "cell_type": "code",
   "execution_count": 12,
   "metadata": {},
   "outputs": [
    {
     "name": "stdout",
     "output_type": "stream",
     "text": [
      "releaseTimes = [9,29,49,50], keyPressed = \"cbcd\"\n"
     ]
    }
   ],
   "source": [
    "strs = input()\n",
    "\n",
    "str1 = strs.split(\"[\")[1].split(\"]\")[0]\n",
    "nums = str1.split(\",\")\n",
    "\n",
    "str2 = strs.split(\"\\\"\")[1].split(\"\\\"\")[0]\n",
    "alphali = list(str2)"
   ]
  },
  {
   "cell_type": "code",
   "execution_count": 14,
   "metadata": {},
   "outputs": [
    {
     "name": "stdout",
     "output_type": "stream",
     "text": [
      "['9', '29', '49', '50']\n"
     ]
    }
   ],
   "source": [
    "print(nums)"
   ]
  },
  {
   "cell_type": "code",
   "execution_count": 15,
   "metadata": {},
   "outputs": [
    {
     "name": "stdout",
     "output_type": "stream",
     "text": [
      "['c', 'b', 'c', 'd']\n"
     ]
    }
   ],
   "source": [
    "print(alphali)"
   ]
  },
  {
   "cell_type": "code",
   "execution_count": 47,
   "metadata": {},
   "outputs": [
    {
     "name": "stdout",
     "output_type": "stream",
     "text": [
      "[[9, 'c'], [29, 'b'], [49, 'c'], [50, 'd']]\n"
     ]
    }
   ],
   "source": [
    "ali = []\n",
    "for a,b in zip(alphali,nums):\n",
    "    bli = []\n",
    "    bli.append(int(b))\n",
    "    bli.append(a)\n",
    "    ali.append(bli)\n",
    "print(ali)"
   ]
  },
  {
   "cell_type": "code",
   "execution_count": 48,
   "metadata": {},
   "outputs": [
    {
     "name": "stdout",
     "output_type": "stream",
     "text": [
      "3   50\n",
      "2   49\n",
      "1   29\n"
     ]
    }
   ],
   "source": [
    "for i in range(len(ali)-1,0,-1):\n",
    "    print(i,\" \",ali[i][0])\n",
    "    ali[i][0] = ali[i][0] - ali[i-1][0]"
   ]
  },
  {
   "cell_type": "code",
   "execution_count": 51,
   "metadata": {},
   "outputs": [
    {
     "name": "stdout",
     "output_type": "stream",
     "text": [
      "c\n"
     ]
    }
   ],
   "source": [
    "ali = sorted(ali)\n",
    "print(ali[-1][1])"
   ]
  },
  {
   "cell_type": "code",
   "execution_count": 52,
   "metadata": {},
   "outputs": [
    {
     "name": "stdout",
     "output_type": "stream",
     "text": [
      "releaseTimes = [12,23,36,46,62], keyPressed = \"spuda\"\n",
      "4   62\n",
      "3   46\n",
      "2   36\n",
      "1   23\n",
      "a\n"
     ]
    }
   ],
   "source": [
    "strs = input()\n",
    "\n",
    "str1 = strs.split(\"[\")[1].split(\"]\")[0]\n",
    "nums = str1.split(\",\")\n",
    "\n",
    "str2 = strs.split(\"\\\"\")[1].split(\"\\\"\")[0]\n",
    "alphali = list(str2)\n",
    "\n",
    "ali = []\n",
    "for a,b in zip(alphali,nums):\n",
    "    bli = []\n",
    "    bli.append(int(b))\n",
    "    bli.append(a)\n",
    "    ali.append(bli)\n",
    "    \n",
    "for i in range(len(ali)-1,0,-1):\n",
    "    ali[i][0] = ali[i][0] - ali[i-1][0]\n",
    "    \n",
    "ali = sorted(ali)\n",
    "print(ali[-1][1])"
   ]
  },
  {
   "cell_type": "markdown",
   "metadata": {},
   "source": [
    "## demo2"
   ]
  },
  {
   "cell_type": "code",
   "execution_count": 54,
   "metadata": {},
   "outputs": [],
   "source": [
    "nums = [4,6,5,9,3,7]\n",
    "l = [0,0,2]\n",
    "r = [2,3,5]"
   ]
  },
  {
   "cell_type": "code",
   "execution_count": 60,
   "metadata": {},
   "outputs": [],
   "source": [
    "ali = []\n",
    "for i in range(len(l)):\n",
    "    bli = []\n",
    "    for j in range(l[i],r[i]+1):\n",
    "        bli.append(nums[j])\n",
    "    ali.append(bli)"
   ]
  },
  {
   "cell_type": "code",
   "execution_count": 63,
   "metadata": {},
   "outputs": [
    {
     "data": {
      "text/plain": [
       "[True, False, True]"
      ]
     },
     "execution_count": 63,
     "metadata": {},
     "output_type": "execute_result"
    }
   ],
   "source": [
    "r = []\n",
    "for i in range(len(ali)):\n",
    "    ali[i] = sorted(ali[i])\n",
    "    s = ali[i]\n",
    "    flag = True\n",
    "    for j in range(len(s)-1):\n",
    "        if(s[j+1]-s[j] != s[1] - s[0]):\n",
    "            flag = False\n",
    "    r.append(flag)\n",
    "r"
   ]
  },
  {
   "cell_type": "code",
   "execution_count": null,
   "metadata": {},
   "outputs": [],
   "source": [
    "ali = []\n",
    "for i in range(len(l)):\n",
    "    bli = []\n",
    "    for j in range(l[i],r[i]+1):\n",
    "        bli.append(nums[j])\n",
    "    ali.append(bli)\n",
    "r = []\n",
    "for i in range(len(ali)):\n",
    "    ali[i] = sorted(ali[i])\n",
    "    s = ali[i]\n",
    "    flag = True\n",
    "    for j in range(len(s)-1):\n",
    "        if(s[j+1]-s[j] != s[1] - s[0]):\n",
    "            flag = False\n",
    "    r.append(flag)\n",
    "return r"
   ]
  }
 ],
 "metadata": {
  "hide_input": false,
  "kernelspec": {
   "display_name": "Python 3",
   "language": "python",
   "name": "python3"
  },
  "language_info": {
   "codemirror_mode": {
    "name": "ipython",
    "version": 3
   },
   "file_extension": ".py",
   "mimetype": "text/x-python",
   "name": "python",
   "nbconvert_exporter": "python",
   "pygments_lexer": "ipython3",
   "version": "3.8.5"
  },
  "toc": {
   "base_numbering": 1,
   "nav_menu": {},
   "number_sections": true,
   "sideBar": true,
   "skip_h1_title": false,
   "title_cell": "Table of Contents",
   "title_sidebar": "Contents",
   "toc_cell": false,
   "toc_position": {},
   "toc_section_display": true,
   "toc_window_display": false
  },
  "varInspector": {
   "cols": {
    "lenName": 16,
    "lenType": 16,
    "lenVar": 40
   },
   "kernels_config": {
    "python": {
     "delete_cmd_postfix": "",
     "delete_cmd_prefix": "del ",
     "library": "var_list.py",
     "varRefreshCmd": "print(var_dic_list())"
    },
    "r": {
     "delete_cmd_postfix": ") ",
     "delete_cmd_prefix": "rm(",
     "library": "var_list.r",
     "varRefreshCmd": "cat(var_dic_list()) "
    }
   },
   "types_to_exclude": [
    "module",
    "function",
    "builtin_function_or_method",
    "instance",
    "_Feature"
   ],
   "window_display": false
  }
 },
 "nbformat": 4,
 "nbformat_minor": 4
}
