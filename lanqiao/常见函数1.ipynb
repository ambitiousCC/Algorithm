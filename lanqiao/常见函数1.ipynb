{
 "cells": [
  {
   "cell_type": "markdown",
   "metadata": {},
   "source": [
    "## 快速幂运算"
   ]
  },
  {
   "cell_type": "code",
   "execution_count": 16,
   "metadata": {},
   "outputs": [],
   "source": [
    "def pow_2(b):\n",
    "    x = 2;\n",
    "    res = 1;\n",
    "    while(b>0):\n",
    "        if(b&1):\n",
    "            res *= x;\n",
    "        b>>=1;\n",
    "        x=x*x\n",
    "    return res"
   ]
  },
  {
   "cell_type": "code",
   "execution_count": 17,
   "metadata": {},
   "outputs": [
    {
     "name": "stdout",
     "output_type": "stream",
     "text": [
      "16\n"
     ]
    }
   ],
   "source": [
    "print(pow_2(4))"
   ]
  },
  {
   "cell_type": "markdown",
   "metadata": {},
   "source": [
    "## 最大公约数"
   ]
  },
  {
   "cell_type": "code",
   "execution_count": 20,
   "metadata": {},
   "outputs": [],
   "source": [
    "def gcd(a,b):\n",
    "    return a if(b==0) else gcd(b,a%b)"
   ]
  },
  {
   "cell_type": "code",
   "execution_count": 21,
   "metadata": {},
   "outputs": [
    {
     "name": "stdout",
     "output_type": "stream",
     "text": [
      "1\n"
     ]
    }
   ],
   "source": [
    "print(gcd(4,5))"
   ]
  },
  {
   "cell_type": "markdown",
   "metadata": {},
   "source": [
    "## 判断闰年"
   ]
  },
  {
   "cell_type": "code",
   "execution_count": 22,
   "metadata": {},
   "outputs": [],
   "source": [
    "def isLeap(x):\n",
    "    return x*400==0 or (x%4==0 and x%100!=0)"
   ]
  },
  {
   "cell_type": "markdown",
   "metadata": {},
   "source": [
    "## 第几天\n",
    "从一段时间到一段时间，求星期一的个数\n",
    "例如：从1901.1.1 ~ 2000.12.26"
   ]
  },
  {
   "cell_type": "code",
   "execution_count": 23,
   "metadata": {},
   "outputs": [
    {
     "name": "stdout",
     "output_type": "stream",
     "text": [
      "5217\n"
     ]
    }
   ],
   "source": [
    "t = 0\n",
    "for i in range(1901,2001):\n",
    "    if(isLeap(i)):\n",
    "        t+=366\n",
    "    else:\n",
    "        t+=365\n",
    "t-=6\n",
    "res = 0\n",
    "for i in range(t,0,-7):\n",
    "    res += 1\n",
    "print(res)"
   ]
  },
  {
   "cell_type": "markdown",
   "metadata": {},
   "source": [
    "## 整数转变为二进制字符串\n",
    "规定长度的字符串"
   ]
  },
  {
   "cell_type": "code",
   "execution_count": 33,
   "metadata": {},
   "outputs": [
    {
     "name": "stdout",
     "output_type": "stream",
     "text": [
      "请输入一个整数8\n",
      "请输入二进制数字位数8\n",
      "00001000   1000\n"
     ]
    }
   ],
   "source": [
    "n = input(\"请输入一个整数\")\n",
    "N = int(n)\n",
    "m = input(\"请输入二进制数字位数\")\n",
    "M = int(m)\n",
    "b1 = bin(N).replace('0b','')\n",
    "b2 = \"{0:b}\".format(N)\n",
    "if(len(b1)>M):\n",
    "    print(\"输入位数不合理\")\n",
    "else:\n",
    "    cro = M-len(b1)\n",
    "    b1 = '0'*cro + b1"
   ]
  },
  {
   "cell_type": "code",
   "execution_count": 34,
   "metadata": {},
   "outputs": [],
   "source": [
    "def binStr(n,m):\n",
    "    b = bin(n).replace('0b','')\n",
    "    l = len(b)\n",
    "    if(l>m):\n",
    "        print(\"输入位数不合理\")\n",
    "    else:\n",
    "        cros = m - l\n",
    "        b = '0'*cros + b\n",
    "    return b"
   ]
  },
  {
   "cell_type": "code",
   "execution_count": 36,
   "metadata": {},
   "outputs": [
    {
     "name": "stdout",
     "output_type": "stream",
     "text": [
      "00001010\n"
     ]
    }
   ],
   "source": [
    "print(binStr(10,8))"
   ]
  },
  {
   "cell_type": "code",
   "execution_count": null,
   "metadata": {},
   "outputs": [],
   "source": []
  }
 ],
 "metadata": {
  "kernelspec": {
   "display_name": "Python 3",
   "language": "python",
   "name": "python3"
  },
  "language_info": {
   "codemirror_mode": {
    "name": "ipython",
    "version": 3
   },
   "file_extension": ".py",
   "mimetype": "text/x-python",
   "name": "python",
   "nbconvert_exporter": "python",
   "pygments_lexer": "ipython3",
   "version": "3.7.4"
  }
 },
 "nbformat": 4,
 "nbformat_minor": 2
}
